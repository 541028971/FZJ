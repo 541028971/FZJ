{
 "cells": [
  {
   "cell_type": "markdown",
   "metadata": {
    "id": "ZvNsvUNNlZbi"
   },
   "source": [
    "---\n",
    "#  Crash Course Python for Data Science - Intro to Python  \n",
    "---\n",
    "# 01 - Python Variables & Data Types\n",
    "---\n",
    "\n",
    "## STOP! BEFORE GOING ANY FURTHER...  \n",
    "\n",
    "Remember, this exercises are open book, open neighbour, open everything! Try to do them on your own before looking at the solution samples.\n"
   ]
  },
  {
   "cell_type": "markdown",
   "metadata": {
    "id": "o57NvhYkBjKH"
   },
   "source": [
    "## Part 1: Variables\n"
   ]
  },
  {
   "cell_type": "markdown",
   "metadata": {
    "id": "4haXpvn1QXW_"
   },
   "source": [
    "### 1.1 Create three numerical variables (ints and/or floats) and add them together. At least one of your variables must hold a negative value."
   ]
  },
  {
   "cell_type": "code",
   "execution_count": 5,
   "metadata": {
    "id": "Aqs3liWFcouG"
   },
   "outputs": [
    {
     "name": "stdout",
     "output_type": "stream",
     "text": [
      "16.5\n"
     ]
    }
   ],
   "source": [
    "### YOUR CODE GOES HERE ###\n",
    "# Define three numerical variables, with at least one being a negative value\n",
    "a = 20       # Positive integer\n",
    "b = -10.5    # Negative float\n",
    "c = 7        # Positive integer\n",
    "\n",
    "# Add the three variables together\n",
    "result = a + b + c\n",
    "\n",
    "# Print the result\n",
    "print(result)"
   ]
  },
  {
   "cell_type": "markdown",
   "metadata": {
    "id": "QSk1zFf4Qbzk"
   },
   "source": [
    "### 1.2 Write a sentence in five parts, assign each part to a variable, then concatenate them all together. Account for spacing!"
   ]
  },
  {
   "cell_type": "code",
   "execution_count": 7,
   "metadata": {
    "id": "knGTdX_jflb4"
   },
   "outputs": [
    {
     "name": "stdout",
     "output_type": "stream",
     "text": [
      "My name is Zijian Feng\n"
     ]
    }
   ],
   "source": [
    "### YOUR CODE GOES HERE ###\n",
    "a = 'My'\n",
    "b = 'name'\n",
    "c = 'is'\n",
    "d = 'Zijian'\n",
    "e = 'Feng'\n",
    "sentence = a + ' ' + b + ' ' + c + ' ' + d + ' ' + e\n",
    "print(sentence)"
   ]
  },
  {
   "cell_type": "markdown",
   "metadata": {
    "id": "8EYDz3UtQflV"
   },
   "source": [
    "### 1.3 Calculate my body mass index. Here's the formula for BMI:  \n",
    "\n",
    ">$\\frac{Weight(kg)}{Height(m)^2} = BMI$  \n",
    "\n",
    "I am 1.60 meters tall and weighs 56 kg. Create a variable for this height, weight, and BMI by combining the first two.\n"
   ]
  },
  {
   "cell_type": "code",
   "execution_count": 19,
   "metadata": {
    "id": "3nxcXGoPg7Kd"
   },
   "outputs": [
    {
     "name": "stdout",
     "output_type": "stream",
     "text": [
      "BMI: 21.87\n"
     ]
    }
   ],
   "source": [
    "### YOUR CODDE GOES HERE ###\n",
    "height = 1.6\n",
    "weight = 56\n",
    "bmi = weight/(height**2)\n",
    "print(f'BMI: {bmi:.2f}')"
   ]
  },
  {
   "cell_type": "markdown",
   "metadata": {
    "id": "SV0stA9BUSCn"
   },
   "source": [
    "### 1.4 Now calculate your own BMI.\n",
    "How tall are you and what is your weight? If you're not sure, make a rough guess and calculate your BMI by changing the values of the variables you created for me. It's easier than creating all new variables, right?"
   ]
  },
  {
   "cell_type": "code",
   "execution_count": 21,
   "metadata": {
    "id": "t6rH9r_Ohwq5"
   },
   "outputs": [
    {
     "name": "stdout",
     "output_type": "stream",
     "text": [
      "My BMI: 26.01\n"
     ]
    }
   ],
   "source": [
    "### YOUR CODE GOES HERE ###\n",
    "height = 1.86\n",
    "weight = 90\n",
    "bmi = weight/(height**2)\n",
    "print(f'My BMI: {bmi:.2f}')"
   ]
  },
  {
   "cell_type": "markdown",
   "metadata": {
    "id": "LvfErOpESot3"
   },
   "source": [
    "## Part 2: Data Types"
   ]
  },
  {
   "cell_type": "markdown",
   "metadata": {
    "id": "u5SAr9vDSuCY"
   },
   "source": [
    "### 2.1 What is the data type of the following variables?"
   ]
  },
  {
   "cell_type": "code",
   "execution_count": null,
   "metadata": {
    "id": "QWyELKj1Sssz"
   },
   "outputs": [],
   "source": [
    "a = -91\n",
    "b = 12.0222\n",
    "c = True\n",
    "d = \"Loosey goosey\""
   ]
  },
  {
   "cell_type": "code",
   "execution_count": null,
   "metadata": {
    "id": "e3IT_1C3iKm3"
   },
   "outputs": [],
   "source": [
    "### YOUR CODE GOES HERE ###\n",
    "a is int\n",
    "b is float\n",
    "c is bool\n",
    "d is str"
   ]
  },
  {
   "cell_type": "markdown",
   "metadata": {
    "id": "hBIomZKgS9Qw"
   },
   "source": [
    "### 2.2 How do strings behave differently than integers or floats?"
   ]
  },
  {
   "cell_type": "markdown",
   "metadata": {
    "id": "RT5d5gOoTFbV"
   },
   "source": [
    "*Write your answer below this line*: \n",
    "---\n",
    "To write, double click here...\n"
   ]
  },
  {
   "cell_type": "markdown",
   "metadata": {
    "id": "tXH3HQGWTZ0-"
   },
   "source": [
    "### 2.3 Create one variable holding a string and another variable holding a float. Concatenate the two together. "
   ]
  },
  {
   "cell_type": "code",
   "execution_count": 23,
   "metadata": {
    "id": "ItnFPpdwi6H_"
   },
   "outputs": [
    {
     "name": "stdout",
     "output_type": "stream",
     "text": [
      "LOL11.11\n"
     ]
    }
   ],
   "source": [
    "### YOUR CODE GOES HERE ###\n",
    "string = 'LOL'\n",
    "mfloat = 11.11\n",
    "a = string + str(mfloat)\n",
    "print(a)"
   ]
  },
  {
   "cell_type": "markdown",
   "metadata": {
    "id": "qVG_ZZyfTjyB"
   },
   "source": [
    "### YOU DID IT! Congratulations. I hope you feel more confident with Python now. Practice makes the master. See you on the next exercise. - Grace\n",
    "\n"
   ]
  }
 ],
 "metadata": {
  "colab": {
   "collapsed_sections": [],
   "name": "Python Variables & Data Types -EXERCISE.ipynb",
   "provenance": []
  },
  "kernelspec": {
   "display_name": "Python [conda env:base] *",
   "language": "python",
   "name": "conda-base-py"
  },
  "language_info": {
   "codemirror_mode": {
    "name": "ipython",
    "version": 3
   },
   "file_extension": ".py",
   "mimetype": "text/x-python",
   "name": "python",
   "nbconvert_exporter": "python",
   "pygments_lexer": "ipython3",
   "version": "3.12.7"
  }
 },
 "nbformat": 4,
 "nbformat_minor": 4
}
